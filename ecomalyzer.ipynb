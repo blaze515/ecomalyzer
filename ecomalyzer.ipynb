{
 "cells": [
  {
   "cell_type": "markdown",
   "metadata": {
    "collapsed": true,
    "pycharm": {
     "is_executing": false
    }
   },
   "source": [
    "# GroupBy Ecommerce Analysis\n",
    "Jake Dunn - Feb 22, 2020\n",
    "\n",
    "## Load and Preprocess Data"
   ]
  },
  {
   "cell_type": "code",
   "execution_count": 12,
   "metadata": {
    "pycharm": {
     "is_executing": false
    }
   },
   "outputs": [],
   "source": [
    "import pandas as pd\n",
    "import json\n",
    "import sklearn\n",
    "from scipy.stats import chi2, chi2_contingency, chisquare"
   ]
  },
  {
   "cell_type": "code",
   "execution_count": 13,
   "metadata": {
    "pycharm": {
     "is_executing": true
    }
   },
   "outputs": [
    {
     "data": {
      "text/html": [
       "<div>\n",
       "<style scoped>\n",
       "    .dataframe tbody tr th:only-of-type {\n",
       "        vertical-align: middle;\n",
       "    }\n",
       "\n",
       "    .dataframe tbody tr th {\n",
       "        vertical-align: top;\n",
       "    }\n",
       "\n",
       "    .dataframe thead th {\n",
       "        text-align: right;\n",
       "    }\n",
       "</style>\n",
       "<table border=\"1\" class=\"dataframe\">\n",
       "  <thead>\n",
       "    <tr style=\"text-align: right;\">\n",
       "      <th></th>\n",
       "      <th>customer_integrated_id</th>\n",
       "      <th>refinement</th>\n",
       "      <th>searches</th>\n",
       "      <th>viewProducts</th>\n",
       "      <th>addToCarts</th>\n",
       "      <th>orders</th>\n",
       "      <th>conversion_rate</th>\n",
       "      <th>clickthrough_rate</th>\n",
       "    </tr>\n",
       "  </thead>\n",
       "  <tbody>\n",
       "    <tr>\n",
       "      <th>0</th>\n",
       "      <td>cjsyuvlck00013ra31lxcso69</td>\n",
       "      <td>{\"name\":\"gbi_categories.1\",\"displayName\":\"Cate...</td>\n",
       "      <td>3</td>\n",
       "      <td>0</td>\n",
       "      <td>0</td>\n",
       "      <td>0</td>\n",
       "      <td>0.0</td>\n",
       "      <td>0.0</td>\n",
       "    </tr>\n",
       "    <tr>\n",
       "      <th>1</th>\n",
       "      <td>cjwti47ac0001458du5ow5ikh</td>\n",
       "      <td>{\"name\":\"visualVariant.nonvisualVariant.BRAND\"...</td>\n",
       "      <td>3</td>\n",
       "      <td>0</td>\n",
       "      <td>0</td>\n",
       "      <td>0</td>\n",
       "      <td>0.0</td>\n",
       "      <td>0.0</td>\n",
       "    </tr>\n",
       "    <tr>\n",
       "      <th>2</th>\n",
       "      <td>013146471</td>\n",
       "      <td>{\"name\":\"visualVariant.nonvisualVariant.gbi_Me...</td>\n",
       "      <td>5</td>\n",
       "      <td>0</td>\n",
       "      <td>0</td>\n",
       "      <td>0</td>\n",
       "      <td>0.0</td>\n",
       "      <td>0.0</td>\n",
       "    </tr>\n",
       "    <tr>\n",
       "      <th>3</th>\n",
       "      <td>014182827</td>\n",
       "      <td>{\"name\":\"visualVariant.nonvisualVariant.BRAND\"...</td>\n",
       "      <td>2</td>\n",
       "      <td>0</td>\n",
       "      <td>0</td>\n",
       "      <td>0</td>\n",
       "      <td>0.0</td>\n",
       "      <td>0.0</td>\n",
       "    </tr>\n",
       "    <tr>\n",
       "      <th>4</th>\n",
       "      <td>023424641</td>\n",
       "      <td>{\"name\":\"gbi_categories.1\",\"displayName\":\"Cate...</td>\n",
       "      <td>2</td>\n",
       "      <td>0</td>\n",
       "      <td>0</td>\n",
       "      <td>0</td>\n",
       "      <td>0.0</td>\n",
       "      <td>0.0</td>\n",
       "    </tr>\n",
       "  </tbody>\n",
       "</table>\n",
       "</div>"
      ],
      "text/plain": [
       "      customer_integrated_id  \\\n",
       "0  cjsyuvlck00013ra31lxcso69   \n",
       "1  cjwti47ac0001458du5ow5ikh   \n",
       "2                  013146471   \n",
       "3                  014182827   \n",
       "4                  023424641   \n",
       "\n",
       "                                          refinement  searches  viewProducts  \\\n",
       "0  {\"name\":\"gbi_categories.1\",\"displayName\":\"Cate...         3             0   \n",
       "1  {\"name\":\"visualVariant.nonvisualVariant.BRAND\"...         3             0   \n",
       "2  {\"name\":\"visualVariant.nonvisualVariant.gbi_Me...         5             0   \n",
       "3  {\"name\":\"visualVariant.nonvisualVariant.BRAND\"...         2             0   \n",
       "4  {\"name\":\"gbi_categories.1\",\"displayName\":\"Cate...         2             0   \n",
       "\n",
       "   addToCarts  orders  conversion_rate  clickthrough_rate  \n",
       "0           0       0              0.0                0.0  \n",
       "1           0       0              0.0                0.0  \n",
       "2           0       0              0.0                0.0  \n",
       "3           0       0              0.0                0.0  \n",
       "4           0       0              0.0                0.0  "
      ]
     },
     "execution_count": 13,
     "metadata": {},
     "output_type": "execute_result"
    }
   ],
   "source": [
    "data = pd.read_csv('./resources/data-1.csv')\n",
    "data.head()"
   ]
  },
  {
   "cell_type": "code",
   "execution_count": 14,
   "metadata": {
    "pycharm": {
     "is_executing": true
    }
   },
   "outputs": [
    {
     "name": "stdout",
     "output_type": "stream",
     "text": [
      "(168362, 8)\n"
     ]
    }
   ],
   "source": [
    "print(data.shape)"
   ]
  },
  {
   "cell_type": "code",
   "execution_count": 15,
   "metadata": {
    "pycharm": {
     "is_executing": true
    }
   },
   "outputs": [
    {
     "data": {
      "text/html": [
       "<div>\n",
       "<style scoped>\n",
       "    .dataframe tbody tr th:only-of-type {\n",
       "        vertical-align: middle;\n",
       "    }\n",
       "\n",
       "    .dataframe tbody tr th {\n",
       "        vertical-align: top;\n",
       "    }\n",
       "\n",
       "    .dataframe thead th {\n",
       "        text-align: right;\n",
       "    }\n",
       "</style>\n",
       "<table border=\"1\" class=\"dataframe\">\n",
       "  <thead>\n",
       "    <tr style=\"text-align: right;\">\n",
       "      <th></th>\n",
       "      <th>name</th>\n",
       "      <th>displayName</th>\n",
       "      <th>value</th>\n",
       "      <th>high</th>\n",
       "      <th>low</th>\n",
       "    </tr>\n",
       "  </thead>\n",
       "  <tbody>\n",
       "    <tr>\n",
       "      <th>0</th>\n",
       "      <td>gbi_categories.1</td>\n",
       "      <td>Category</td>\n",
       "      <td>Vitamin C</td>\n",
       "      <td>NaN</td>\n",
       "      <td>NaN</td>\n",
       "    </tr>\n",
       "    <tr>\n",
       "      <th>1</th>\n",
       "      <td>visualVariant.nonvisualVariant.BRAND</td>\n",
       "      <td>Brands</td>\n",
       "      <td>Jason</td>\n",
       "      <td>NaN</td>\n",
       "      <td>NaN</td>\n",
       "    </tr>\n",
       "    <tr>\n",
       "      <th>2</th>\n",
       "      <td>visualVariant.nonvisualVariant.gbi_Merged_concern</td>\n",
       "      <td>Concern</td>\n",
       "      <td>Eye/Macular Health</td>\n",
       "      <td>NaN</td>\n",
       "      <td>NaN</td>\n",
       "    </tr>\n",
       "    <tr>\n",
       "      <th>3</th>\n",
       "      <td>visualVariant.nonvisualVariant.BRAND</td>\n",
       "      <td>Brands</td>\n",
       "      <td>Swanson Health Products</td>\n",
       "      <td>NaN</td>\n",
       "      <td>NaN</td>\n",
       "    </tr>\n",
       "    <tr>\n",
       "      <th>4</th>\n",
       "      <td>gbi_categories.1</td>\n",
       "      <td>Category</td>\n",
       "      <td>CoQ10</td>\n",
       "      <td>NaN</td>\n",
       "      <td>NaN</td>\n",
       "    </tr>\n",
       "  </tbody>\n",
       "</table>\n",
       "</div>"
      ],
      "text/plain": [
       "                                                name displayName  \\\n",
       "0                                   gbi_categories.1    Category   \n",
       "1               visualVariant.nonvisualVariant.BRAND      Brands   \n",
       "2  visualVariant.nonvisualVariant.gbi_Merged_concern     Concern   \n",
       "3               visualVariant.nonvisualVariant.BRAND      Brands   \n",
       "4                                   gbi_categories.1    Category   \n",
       "\n",
       "                     value  high  low  \n",
       "0                Vitamin C   NaN  NaN  \n",
       "1                    Jason   NaN  NaN  \n",
       "2       Eye/Macular Health   NaN  NaN  \n",
       "3  Swanson Health Products   NaN  NaN  \n",
       "4                    CoQ10   NaN  NaN  "
      ]
     },
     "execution_count": 15,
     "metadata": {},
     "output_type": "execute_result"
    }
   ],
   "source": [
    "refinement_df = pd.json_normalize(data['refinement'].apply(json.loads))\n",
    "refinement_df.head()"
   ]
  },
  {
   "cell_type": "code",
   "execution_count": 16,
   "metadata": {
    "pycharm": {
     "is_executing": true
    }
   },
   "outputs": [
    {
     "data": {
      "text/html": [
       "<div>\n",
       "<style scoped>\n",
       "    .dataframe tbody tr th:only-of-type {\n",
       "        vertical-align: middle;\n",
       "    }\n",
       "\n",
       "    .dataframe tbody tr th {\n",
       "        vertical-align: top;\n",
       "    }\n",
       "\n",
       "    .dataframe thead th {\n",
       "        text-align: right;\n",
       "    }\n",
       "</style>\n",
       "<table border=\"1\" class=\"dataframe\">\n",
       "  <thead>\n",
       "    <tr style=\"text-align: right;\">\n",
       "      <th></th>\n",
       "      <th>customer_integrated_id</th>\n",
       "      <th>refinement</th>\n",
       "      <th>searches</th>\n",
       "      <th>viewProducts</th>\n",
       "      <th>addToCarts</th>\n",
       "      <th>orders</th>\n",
       "      <th>conversion_rate</th>\n",
       "      <th>clickthrough_rate</th>\n",
       "      <th>name</th>\n",
       "      <th>displayName</th>\n",
       "      <th>value</th>\n",
       "      <th>high</th>\n",
       "      <th>low</th>\n",
       "    </tr>\n",
       "  </thead>\n",
       "  <tbody>\n",
       "    <tr>\n",
       "      <th>0</th>\n",
       "      <td>cjsyuvlck00013ra31lxcso69</td>\n",
       "      <td>{\"name\":\"gbi_categories.1\",\"displayName\":\"Cate...</td>\n",
       "      <td>3</td>\n",
       "      <td>0</td>\n",
       "      <td>0</td>\n",
       "      <td>0</td>\n",
       "      <td>0.0</td>\n",
       "      <td>0.0</td>\n",
       "      <td>gbi_categories.1</td>\n",
       "      <td>Category</td>\n",
       "      <td>Vitamin C</td>\n",
       "      <td>NaN</td>\n",
       "      <td>NaN</td>\n",
       "    </tr>\n",
       "    <tr>\n",
       "      <th>1</th>\n",
       "      <td>cjwti47ac0001458du5ow5ikh</td>\n",
       "      <td>{\"name\":\"visualVariant.nonvisualVariant.BRAND\"...</td>\n",
       "      <td>3</td>\n",
       "      <td>0</td>\n",
       "      <td>0</td>\n",
       "      <td>0</td>\n",
       "      <td>0.0</td>\n",
       "      <td>0.0</td>\n",
       "      <td>visualVariant.nonvisualVariant.BRAND</td>\n",
       "      <td>Brands</td>\n",
       "      <td>Jason</td>\n",
       "      <td>NaN</td>\n",
       "      <td>NaN</td>\n",
       "    </tr>\n",
       "    <tr>\n",
       "      <th>2</th>\n",
       "      <td>013146471</td>\n",
       "      <td>{\"name\":\"visualVariant.nonvisualVariant.gbi_Me...</td>\n",
       "      <td>5</td>\n",
       "      <td>0</td>\n",
       "      <td>0</td>\n",
       "      <td>0</td>\n",
       "      <td>0.0</td>\n",
       "      <td>0.0</td>\n",
       "      <td>visualVariant.nonvisualVariant.gbi_Merged_concern</td>\n",
       "      <td>Concern</td>\n",
       "      <td>Eye/Macular Health</td>\n",
       "      <td>NaN</td>\n",
       "      <td>NaN</td>\n",
       "    </tr>\n",
       "    <tr>\n",
       "      <th>3</th>\n",
       "      <td>014182827</td>\n",
       "      <td>{\"name\":\"visualVariant.nonvisualVariant.BRAND\"...</td>\n",
       "      <td>2</td>\n",
       "      <td>0</td>\n",
       "      <td>0</td>\n",
       "      <td>0</td>\n",
       "      <td>0.0</td>\n",
       "      <td>0.0</td>\n",
       "      <td>visualVariant.nonvisualVariant.BRAND</td>\n",
       "      <td>Brands</td>\n",
       "      <td>Swanson Health Products</td>\n",
       "      <td>NaN</td>\n",
       "      <td>NaN</td>\n",
       "    </tr>\n",
       "    <tr>\n",
       "      <th>4</th>\n",
       "      <td>023424641</td>\n",
       "      <td>{\"name\":\"gbi_categories.1\",\"displayName\":\"Cate...</td>\n",
       "      <td>2</td>\n",
       "      <td>0</td>\n",
       "      <td>0</td>\n",
       "      <td>0</td>\n",
       "      <td>0.0</td>\n",
       "      <td>0.0</td>\n",
       "      <td>gbi_categories.1</td>\n",
       "      <td>Category</td>\n",
       "      <td>CoQ10</td>\n",
       "      <td>NaN</td>\n",
       "      <td>NaN</td>\n",
       "    </tr>\n",
       "  </tbody>\n",
       "</table>\n",
       "</div>"
      ],
      "text/plain": [
       "      customer_integrated_id  \\\n",
       "0  cjsyuvlck00013ra31lxcso69   \n",
       "1  cjwti47ac0001458du5ow5ikh   \n",
       "2                  013146471   \n",
       "3                  014182827   \n",
       "4                  023424641   \n",
       "\n",
       "                                          refinement  searches  viewProducts  \\\n",
       "0  {\"name\":\"gbi_categories.1\",\"displayName\":\"Cate...         3             0   \n",
       "1  {\"name\":\"visualVariant.nonvisualVariant.BRAND\"...         3             0   \n",
       "2  {\"name\":\"visualVariant.nonvisualVariant.gbi_Me...         5             0   \n",
       "3  {\"name\":\"visualVariant.nonvisualVariant.BRAND\"...         2             0   \n",
       "4  {\"name\":\"gbi_categories.1\",\"displayName\":\"Cate...         2             0   \n",
       "\n",
       "   addToCarts  orders  conversion_rate  clickthrough_rate  \\\n",
       "0           0       0              0.0                0.0   \n",
       "1           0       0              0.0                0.0   \n",
       "2           0       0              0.0                0.0   \n",
       "3           0       0              0.0                0.0   \n",
       "4           0       0              0.0                0.0   \n",
       "\n",
       "                                                name displayName  \\\n",
       "0                                   gbi_categories.1    Category   \n",
       "1               visualVariant.nonvisualVariant.BRAND      Brands   \n",
       "2  visualVariant.nonvisualVariant.gbi_Merged_concern     Concern   \n",
       "3               visualVariant.nonvisualVariant.BRAND      Brands   \n",
       "4                                   gbi_categories.1    Category   \n",
       "\n",
       "                     value  high  low  \n",
       "0                Vitamin C   NaN  NaN  \n",
       "1                    Jason   NaN  NaN  \n",
       "2       Eye/Macular Health   NaN  NaN  \n",
       "3  Swanson Health Products   NaN  NaN  \n",
       "4                    CoQ10   NaN  NaN  "
      ]
     },
     "execution_count": 16,
     "metadata": {},
     "output_type": "execute_result"
    }
   ],
   "source": [
    "df = pd.concat([data, refinement_df], axis=1)\n",
    "df.head(5)"
   ]
  },
  {
   "cell_type": "code",
   "execution_count": 17,
   "metadata": {
    "pycharm": {
     "is_executing": true
    }
   },
   "outputs": [
    {
     "data": {
      "text/html": [
       "<div>\n",
       "<style scoped>\n",
       "    .dataframe tbody tr th:only-of-type {\n",
       "        vertical-align: middle;\n",
       "    }\n",
       "\n",
       "    .dataframe tbody tr th {\n",
       "        vertical-align: top;\n",
       "    }\n",
       "\n",
       "    .dataframe thead th {\n",
       "        text-align: right;\n",
       "    }\n",
       "</style>\n",
       "<table border=\"1\" class=\"dataframe\">\n",
       "  <thead>\n",
       "    <tr style=\"text-align: right;\">\n",
       "      <th></th>\n",
       "      <th>col_0</th>\n",
       "      <th>count</th>\n",
       "    </tr>\n",
       "    <tr>\n",
       "      <th>displayName</th>\n",
       "      <th>name</th>\n",
       "      <th></th>\n",
       "    </tr>\n",
       "  </thead>\n",
       "  <tbody>\n",
       "    <tr>\n",
       "      <th>Brands</th>\n",
       "      <th>visualVariant.nonvisualVariant.BRAND</th>\n",
       "      <td>24149</td>\n",
       "    </tr>\n",
       "    <tr>\n",
       "      <th rowspan=\"3\" valign=\"top\">Category</th>\n",
       "      <th>gbi_categories.1</th>\n",
       "      <td>80599</td>\n",
       "    </tr>\n",
       "    <tr>\n",
       "      <th>gbi_categories.2</th>\n",
       "      <td>40468</td>\n",
       "    </tr>\n",
       "    <tr>\n",
       "      <th>gbi_categories.3</th>\n",
       "      <td>831</td>\n",
       "    </tr>\n",
       "    <tr>\n",
       "      <th>Concern</th>\n",
       "      <th>visualVariant.nonvisualVariant.gbi_Merged_concern</th>\n",
       "      <td>4737</td>\n",
       "    </tr>\n",
       "    <tr>\n",
       "      <th>Flavor</th>\n",
       "      <th>visualVariant.nonvisualVariant.gbi_Merged_flavor</th>\n",
       "      <td>169</td>\n",
       "    </tr>\n",
       "    <tr>\n",
       "      <th rowspan=\"2\" valign=\"top\">Form</th>\n",
       "      <th>visualVariant.nonvisualVariant.FORM</th>\n",
       "      <td>616</td>\n",
       "    </tr>\n",
       "    <tr>\n",
       "      <th>visualVariant.nonvisualVariant.gbi_Merged_form</th>\n",
       "      <td>2603</td>\n",
       "    </tr>\n",
       "    <tr>\n",
       "      <th>More Ways to Browse</th>\n",
       "      <th>visualVariant.nonvisualVariant.MOREWAYSTOBROWSE</th>\n",
       "      <td>5587</td>\n",
       "    </tr>\n",
       "    <tr>\n",
       "      <th>Pill Size</th>\n",
       "      <th>visualVariant.nonvisualVariant.PILLSZ</th>\n",
       "      <td>34</td>\n",
       "    </tr>\n",
       "    <tr>\n",
       "      <th>Potency</th>\n",
       "      <th>visualVariant.nonvisualVariant.POTENT</th>\n",
       "      <td>2811</td>\n",
       "    </tr>\n",
       "    <tr>\n",
       "      <th rowspan=\"2\" valign=\"top\">Specialty</th>\n",
       "      <th>visualVariant.nonvisualVariant.SDP</th>\n",
       "      <td>564</td>\n",
       "    </tr>\n",
       "    <tr>\n",
       "      <th>visualVariant.nonvisualVariant.gbi_Merged_specialties</th>\n",
       "      <td>3666</td>\n",
       "    </tr>\n",
       "    <tr>\n",
       "      <th>Swanson Brands</th>\n",
       "      <th>visualVariant.nonvisualVariant.BRAND2</th>\n",
       "      <td>1474</td>\n",
       "    </tr>\n",
       "    <tr>\n",
       "      <th>visualVariant.nonvisualVariant.BAZARRATE</th>\n",
       "      <th>visualVariant.nonvisualVariant.BAZARRATE</th>\n",
       "      <td>25</td>\n",
       "    </tr>\n",
       "    <tr>\n",
       "      <th>visualVariant.nonvisualVariant.BAZARREVIEW</th>\n",
       "      <th>visualVariant.nonvisualVariant.BAZARREVIEW</th>\n",
       "      <td>24</td>\n",
       "    </tr>\n",
       "    <tr>\n",
       "      <th>visualVariant.nonvisualVariant.MOREWAYSTOBROWSE</th>\n",
       "      <th>visualVariant.nonvisualVariant.MOREWAYSTOBROWSE</th>\n",
       "      <td>4</td>\n",
       "    </tr>\n",
       "    <tr>\n",
       "      <th>visualVariant.nonvisualVariant.gbi_Merged_specialties</th>\n",
       "      <th>visualVariant.nonvisualVariant.gbi_Merged_specialties</th>\n",
       "      <td>1</td>\n",
       "    </tr>\n",
       "  </tbody>\n",
       "</table>\n",
       "</div>"
      ],
      "text/plain": [
       "col_0                                                                                                  count\n",
       "displayName                                        name                                                     \n",
       "Brands                                             visualVariant.nonvisualVariant.BRAND                24149\n",
       "Category                                           gbi_categories.1                                    80599\n",
       "                                                   gbi_categories.2                                    40468\n",
       "                                                   gbi_categories.3                                      831\n",
       "Concern                                            visualVariant.nonvisualVariant.gbi_Merged_concern    4737\n",
       "Flavor                                             visualVariant.nonvisualVariant.gbi_Merged_flavor      169\n",
       "Form                                               visualVariant.nonvisualVariant.FORM                   616\n",
       "                                                   visualVariant.nonvisualVariant.gbi_Merged_form       2603\n",
       "More Ways to Browse                                visualVariant.nonvisualVariant.MOREWAYSTOBROWSE      5587\n",
       "Pill Size                                          visualVariant.nonvisualVariant.PILLSZ                  34\n",
       "Potency                                            visualVariant.nonvisualVariant.POTENT                2811\n",
       "Specialty                                          visualVariant.nonvisualVariant.SDP                    564\n",
       "                                                   visualVariant.nonvisualVariant.gbi_Merged_speci...   3666\n",
       "Swanson Brands                                     visualVariant.nonvisualVariant.BRAND2                1474\n",
       "visualVariant.nonvisualVariant.BAZARRATE           visualVariant.nonvisualVariant.BAZARRATE               25\n",
       "visualVariant.nonvisualVariant.BAZARREVIEW         visualVariant.nonvisualVariant.BAZARREVIEW             24\n",
       "visualVariant.nonvisualVariant.MOREWAYSTOBROWSE    visualVariant.nonvisualVariant.MOREWAYSTOBROWSE         4\n",
       "visualVariant.nonvisualVariant.gbi_Merged_speci... visualVariant.nonvisualVariant.gbi_Merged_speci...      1"
      ]
     },
     "execution_count": 17,
     "metadata": {},
     "output_type": "execute_result"
    }
   ],
   "source": [
    "x_tab = pd.crosstab([df['displayName'], df['name']], columns='count')\n",
    "x_tab"
   ]
  },
  {
   "cell_type": "code",
   "execution_count": 18,
   "metadata": {
    "pycharm": {
     "is_executing": true
    }
   },
   "outputs": [],
   "source": [
    "\n",
    "stat, p, dof, expected = chi2_contingency(x_tab)"
   ]
  },
  {
   "cell_type": "code",
   "execution_count": 19,
   "metadata": {
    "pycharm": {
     "is_executing": true
    },
    "scrolled": true
   },
   "outputs": [
    {
     "name": "stdout",
     "output_type": "stream",
     "text": [
      "dof=0\n",
      "[[2.4149e+04]\n",
      " [8.0599e+04]\n",
      " [4.0468e+04]\n",
      " [8.3100e+02]\n",
      " [4.7370e+03]\n",
      " [1.6900e+02]\n",
      " [6.1600e+02]\n",
      " [2.6030e+03]\n",
      " [5.5870e+03]\n",
      " [3.4000e+01]\n",
      " [2.8110e+03]\n",
      " [5.6400e+02]\n",
      " [3.6660e+03]\n",
      " [1.4740e+03]\n",
      " [2.5000e+01]\n",
      " [2.4000e+01]\n",
      " [4.0000e+00]\n",
      " [1.0000e+00]]\n"
     ]
    }
   ],
   "source": [
    "print('dof=%d' % dof)\n",
    "print(expected)"
   ]
  },
  {
   "cell_type": "code",
   "execution_count": 20,
   "metadata": {
    "pycharm": {
     "is_executing": true
    }
   },
   "outputs": [
    {
     "name": "stdout",
     "output_type": "stream",
     "text": [
      "probability=0.950, critical=nan, stat=0.000\n"
     ]
    }
   ],
   "source": [
    "prob = .95\n",
    "critical = chi2.ppf(prob, dof)\n",
    "print('probability=%.3f, critical=%.3f, stat=%.3f' % (prob, critical, stat))"
   ]
  },
  {
   "cell_type": "code",
   "execution_count": 21,
   "metadata": {
    "pycharm": {
     "is_executing": true
    }
   },
   "outputs": [
    {
     "data": {
      "text/plain": [
       "Power_divergenceResult(statistic=array([772723.86695335]), pvalue=array([0.]))"
      ]
     },
     "execution_count": 21,
     "metadata": {},
     "output_type": "execute_result"
    }
   ],
   "source": [
    "chisquare(x_tab)"
   ]
  },
  {
   "cell_type": "code",
   "execution_count": 22,
   "metadata": {
    "pycharm": {
     "is_executing": true
    }
   },
   "outputs": [],
   "source": [
    "from sklearn.feature_extraction import DictVectorizer\n",
    "vec = DictVectorizer()\n",
    "#vec.fit_transform().toarray()\n",
    "#vec.get_feature_names()"
   ]
  },
  {
   "cell_type": "code",
   "execution_count": null,
   "metadata": {
    "pycharm": {
     "is_executing": true
    }
   },
   "outputs": [],
   "source": []
  }
 ],
 "metadata": {
  "kernelspec": {
   "display_name": "Python 3",
   "language": "python",
   "name": "python3"
  },
  "language_info": {
   "codemirror_mode": {
    "name": "ipython",
    "version": 3
   },
   "file_extension": ".py",
   "mimetype": "text/x-python",
   "name": "python",
   "nbconvert_exporter": "python",
   "pygments_lexer": "ipython3",
   "version": "3.7.6"
  },
  "pycharm": {
   "stem_cell": {
    "cell_type": "raw",
    "metadata": {
     "collapsed": false
    },
    "source": []
   }
  }
 },
 "nbformat": 4,
 "nbformat_minor": 1
}
